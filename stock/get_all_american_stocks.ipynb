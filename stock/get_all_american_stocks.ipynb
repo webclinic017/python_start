{
 "cells": [
  {
   "cell_type": "markdown",
   "metadata": {
    "pycharm": {
     "name": "#%%\n"
    }
   },
   "source": [
    "写一个函数，获取所有分类的美股\n",
    "美股列表页"
   ]
  },
  {
   "cell_type": "code",
   "execution_count": 1,
   "metadata": {},
   "outputs": [],
   "source": [
    "import pandas as pd\n",
    "import numpy as np\n",
    "import urllib3\n",
    "import json\n",
    "import jsonpath"
   ]
  },
  {
   "cell_type": "code",
   "execution_count": 2,
   "metadata": {},
   "outputs": [],
   "source": [
    "http = urllib3.PoolManager()"
   ]
  },
  {
   "cell_type": "code",
   "execution_count": 3,
   "metadata": {
    "pycharm": {
     "name": "#%%\n"
    }
   },
   "outputs": [],
   "source": [
    "api_url = 'https://stock.finance.sina.com.cn/usstock/api/jsonp.php/IO.XSRV2.CallbackList[\\'wangguohui\\']/US_CategoryService.getList'"
   ]
  },
  {
   "cell_type": "code",
   "execution_count": 4,
   "metadata": {},
   "outputs": [],
   "source": [
    "total_df = pd.DataFrame()"
   ]
  },
  {
   "cell_type": "code",
   "execution_count": 5,
   "metadata": {},
   "outputs": [],
   "source": [
    "def get_all_amarican_stock_page(page = 1):\n",
    "    r = http.request(method='get', url=api_url,\n",
    "        fields={\n",
    "         'page': page,\n",
    "         'num': 60\n",
    "        })\n",
    "    result = r.data.decode('utf-8')\n",
    "    json_data_str = result.split('wangguohui')[1][3:-2]\n",
    "    json_data = json.loads(json_data_str)\n",
    "    list_data = jsonpath.jsonpath(json_data, \"$.data[]\")[0]\n",
    "    return pd.DataFrame(list_data)"
   ]
  },
  {
   "cell_type": "code",
   "execution_count": 6,
   "metadata": {
    "pycharm": {
     "name": "#%%\n"
    }
   },
   "outputs": [],
   "source": [
    "def get_all_amarican_stock():\n",
    "    df_page = get_all_amarican_stock_page(1)\n",
    "    total_df = pd.DataFrame(df_page)\n",
    "    page = 2\n",
    "    while df_page.shape[0] != 0:\n",
    "        df_page = get_all_amarican_stock_page(page)\n",
    "        page = page + 1\n",
    "        total_df = total_df.append(df_page)\n",
    "    return total_df"
   ]
  },
  {
   "cell_type": "code",
   "execution_count": null,
   "metadata": {},
   "outputs": [],
   "source": [
    "total_df = get_all_amarican_stock()"
   ]
  },
  {
   "cell_type": "code",
   "execution_count": null,
   "metadata": {},
   "outputs": [],
   "source": [
    "total_df.to_csv('all_amarican_stocks.csv')"
   ]
  },
  {
   "cell_type": "code",
   "execution_count": null,
   "metadata": {},
   "outputs": [],
   "source": []
  },
  {
   "cell_type": "code",
   "execution_count": null,
   "metadata": {},
   "outputs": [],
   "source": []
  },
  {
   "cell_type": "code",
   "execution_count": null,
   "metadata": {},
   "outputs": [],
   "source": []
  },
  {
   "cell_type": "code",
   "execution_count": null,
   "metadata": {},
   "outputs": [],
   "source": []
  },
  {
   "cell_type": "code",
   "execution_count": null,
   "metadata": {},
   "outputs": [],
   "source": []
  }
 ],
 "metadata": {
  "kernelspec": {
   "display_name": "Python 3",
   "language": "python",
   "name": "python3"
  },
  "language_info": {
   "codemirror_mode": {
    "name": "ipython",
    "version": 3
   },
   "file_extension": ".py",
   "mimetype": "text/x-python",
   "name": "python",
   "nbconvert_exporter": "python",
   "pygments_lexer": "ipython3",
   "version": "3.9.10"
  }
 },
 "nbformat": 4,
 "nbformat_minor": 1
}
